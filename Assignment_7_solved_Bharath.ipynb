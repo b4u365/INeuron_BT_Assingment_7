{
 "cells": [
  {
   "cell_type": "markdown",
   "id": "11f47018",
   "metadata": {},
   "source": [
    "1. Create two int type variables, apply addition, subtraction, division and multiplications\n",
    "and store the results in variables. Then print the data in the following format by calling the\n",
    "variables:\n",
    "First variable is __ & second variable is __.\n",
    "Addition: __ + __ = __\n",
    "Subtraction: __ - __ = __\n",
    "Multiplication: __ * __ = __\n",
    "Division: __ / __ = __"
   ]
  },
  {
   "cell_type": "code",
   "execution_count": 121,
   "id": "5ee419a9",
   "metadata": {},
   "outputs": [
    {
     "name": "stdout",
     "output_type": "stream",
     "text": [
      "please enter number one :10\n",
      "please enter number two :2\n",
      "First variable is 10.0 & second variable is 2.0\n",
      "Addition: 10.0 + 2.0 = 12.0\n",
      "Subtraction: 10.0 - 2.0 = 8.0\n",
      "Multiplication: 10.0 * 2.0 = 20.0\n",
      "Division: 10.0 / 2.0 = 5.0\n"
     ]
    }
   ],
   "source": [
    "a=float(input(\"please enter number one :\"))\n",
    "b=float(input(\"please enter number two :\"))\n",
    "\n",
    "add=a+b\n",
    "subtract=a-b\n",
    "multiply=a*b\n",
    "\n",
    "if b==0:\n",
    "    print(\"please enter any number other than zero to avoid infinity output while divison\") \n",
    "\n",
    "else:\n",
    "    division=a/b\n",
    "\n",
    "\n",
    "print(f\"First variable is {a} & second variable is {b}\")\n",
    "print(f\"Addition: {a} + {b} = {add}\")\n",
    "print(f\"Subtraction: {a} - {b} = {subtract}\")\n",
    "print(f\"Multiplication: {a} * {b} = {multiply}\")\n",
    "if b != 0:\n",
    "    print(f\"Division: {a} / {b} = {division}\")"
   ]
  },
  {
   "cell_type": "markdown",
   "id": "85f8d2bd",
   "metadata": {},
   "source": [
    "2. Q.2. What is the difference between the following operators:\n",
    "(i) ‘/’ & ‘//’\n",
    "(ii) ‘**’ & ‘^’"
   ]
  },
  {
   "cell_type": "markdown",
   "id": "1cdec356",
   "metadata": {},
   "source": [
    "<font color=\"blue\">\n",
    "\n",
    "**Ans:**\n",
    "    \n",
    "    '/' (Division Operator): The '/' operator is used for division between two numbers.\n",
    "    ' // ' this returns the floating-point result of the division, even if the dividend and divisor are integers. \n",
    "    "
   ]
  },
  {
   "cell_type": "code",
   "execution_count": 1,
   "id": "28c6b10e",
   "metadata": {},
   "outputs": [
    {
     "name": "stdout",
     "output_type": "stream",
     "text": [
      "3.3333333333333335\n"
     ]
    }
   ],
   "source": [
    "result = 10 / 3\n",
    "print(result)  \n",
    "    "
   ]
  },
  {
   "cell_type": "code",
   "execution_count": 2,
   "id": "6dc46fca",
   "metadata": {},
   "outputs": [
    {
     "name": "stdout",
     "output_type": "stream",
     "text": [
      "3\n"
     ]
    }
   ],
   "source": [
    "result = 10 // 3\n",
    "print(result)  "
   ]
  },
  {
   "cell_type": "markdown",
   "id": "fad3310a",
   "metadata": {},
   "source": [
    "<font color=\"blue\">\n",
    "\n",
    "'**' Exponentiation Operator: This operator is used for exponentiation."
   ]
  },
  {
   "cell_type": "code",
   "execution_count": 3,
   "id": "d44bb05c",
   "metadata": {},
   "outputs": [
    {
     "name": "stdout",
     "output_type": "stream",
     "text": [
      "8\n"
     ]
    }
   ],
   "source": [
    "result = 2 ** 3\n",
    "print(result)"
   ]
  },
  {
   "cell_type": "markdown",
   "id": "1e6f968e",
   "metadata": {
    "scrolled": true
   },
   "source": [
    "<font color=\"blue\">\n",
    "\n",
    "The '^' operator is used for bitwise XOR (exclusive OR) operation between two integers. \n",
    "It performs a bitwise XOR on the binary representations of the numbers. "
   ]
  },
  {
   "cell_type": "code",
   "execution_count": 6,
   "id": "91f31384",
   "metadata": {},
   "outputs": [
    {
     "name": "stdout",
     "output_type": "stream",
     "text": [
      "6\n"
     ]
    }
   ],
   "source": [
    "result = 5 ^ 3\n",
    "print(result)  # (Binary: 0101 ^ 0011 = 0110)\n"
   ]
  },
  {
   "cell_type": "markdown",
   "id": "812458cd",
   "metadata": {},
   "source": [
    "3. List the logical operators."
   ]
  },
  {
   "cell_type": "markdown",
   "id": "407707af",
   "metadata": {},
   "source": [
    "<font color=\"blue\">\n",
    "\n",
    "**Ans:**\n",
    "    \n",
    "\n",
    "the logical operators in Python:\n",
    "\n",
    "and: The \"and\" operator returns True if both operands are True, otherwise, it returns False.\n",
    "\n",
    "or: The \"or\" operator returns True if at least one of the operands is True, otherwise, it returns False.\n",
    "\n",
    "not: The \"not\" operator returns the opposite boolean value of its operand.\n",
    "If the operand is True, \"not\" returns False, and if the operand is False, \"not\" returns True.\n",
    "    \n"
   ]
  },
  {
   "cell_type": "markdown",
   "id": "68a379da",
   "metadata": {},
   "source": [
    "4. Explain right shift operator and left shift operator with examples."
   ]
  },
  {
   "cell_type": "markdown",
   "id": "3bb73323",
   "metadata": {},
   "source": [
    "<font color=\"blue\">\n",
    "    \n",
    "**Ans:**\n",
    "\n",
    "Right Shift (>>):\n",
    "\n",
    "It's like dividing a number by 2 for each shift to the right.\n",
    "If you shift a number's bits to the right, you make it smaller.\n",
    "\n",
    "\n",
    "Left Shift (<<):\n",
    "\n",
    "It's like multiplying a number by 2 for each shift to the left.\n",
    "If you shift a number's bits to the left, you make it bigger.\n",
    "\n",
    "  "
   ]
  },
  {
   "cell_type": "code",
   "execution_count": 8,
   "id": "ca17ac33",
   "metadata": {},
   "outputs": [
    {
     "name": "stdout",
     "output_type": "stream",
     "text": [
      "4\n"
     ]
    }
   ],
   "source": [
    "number = 16 \n",
    "shift_amount = 2\n",
    "result = number >> shift_amount\n",
    "print(result) #Shifting 16 (binary 10000) two positions to the right gives 4 (binary 00100).\n"
   ]
  },
  {
   "cell_type": "code",
   "execution_count": 9,
   "id": "7be67c25",
   "metadata": {},
   "outputs": [
    {
     "name": "stdout",
     "output_type": "stream",
     "text": [
      "20\n"
     ]
    }
   ],
   "source": [
    "number = 5\n",
    "shift_amount = 2\n",
    "result = number << shift_amount\n",
    "print(result)  # Shifting 5 (binary 0101) two positions to the left gives 20 (binary 010100).\n"
   ]
  },
  {
   "cell_type": "markdown",
   "id": "53d95e0b",
   "metadata": {},
   "source": [
    "5. Create a list containing int type data of length 15. Then write a code to check if 10 is\n",
    "present in the list or not."
   ]
  },
  {
   "cell_type": "code",
   "execution_count": 33,
   "id": "6d819ca5",
   "metadata": {},
   "outputs": [
    {
     "name": "stdout",
     "output_type": "stream",
     "text": [
      "10 is there in the list\n"
     ]
    }
   ],
   "source": [
    "list1=[1,10,15,20,25,23,50,122,143,1422,11,12,13,14,15]\n",
    "\n",
    "for i in list1:\n",
    "    if i==10:\n",
    "        print(\"10 is there in the list\")\n",
    "        break\n",
    "else:\n",
    "    print(\"10 is not there in the list\")\\\n",
    "\n"
   ]
  },
  {
   "cell_type": "code",
   "execution_count": null,
   "id": "c53126b8",
   "metadata": {},
   "outputs": [],
   "source": []
  }
 ],
 "metadata": {
  "kernelspec": {
   "display_name": "Python 3 (ipykernel)",
   "language": "python",
   "name": "python3"
  },
  "language_info": {
   "codemirror_mode": {
    "name": "ipython",
    "version": 3
   },
   "file_extension": ".py",
   "mimetype": "text/x-python",
   "name": "python",
   "nbconvert_exporter": "python",
   "pygments_lexer": "ipython3",
   "version": "3.10.9"
  }
 },
 "nbformat": 4,
 "nbformat_minor": 5
}
